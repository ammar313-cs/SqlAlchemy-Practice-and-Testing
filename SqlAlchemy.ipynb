{
  "cells": [
    {
      "cell_type": "code",
      "execution_count": 139,
      "metadata": {
        "id": "fBLz5OLsIw06"
      },
      "outputs": [],
      "source": [
        "from sqlalchemy import create_engine, Column, Integer, String, ForeignKey, Table, event\n",
        "from sqlalchemy.ext.declarative import declarative_base\n",
        "from sqlalchemy.orm import relationship\n",
        "from sqlalchemy.orm import sessionmaker\n",
        "from sqlalchemy import join\n",
        "from sqlalchemy import select\n",
        "\n",
        "from sqlalchemy.orm import registry\n",
        "\n",
        "import random\n",
        "import string"
      ]
    },
    {
      "cell_type": "code",
      "execution_count": 140,
      "metadata": {
        "colab": {
          "base_uri": "https://localhost:8080/"
        },
        "id": "yOcI2KtMJKc6",
        "outputId": "9924d447-078d-4bc6-bd39-087faa386969"
      },
      "outputs": [
        {
          "name": "stderr",
          "output_type": "stream",
          "text": [
            "<ipython-input-140-14385c17bab9>:2: MovedIn20Warning: The ``declarative_base()`` function is now available as sqlalchemy.orm.declarative_base(). (deprecated since: 2.0) (Background on SQLAlchemy 2.0 at: https://sqlalche.me/e/b8d9)\n",
            "  Base = declarative_base()\n"
          ]
        }
      ],
      "source": [
        "#calling sqlalchemy declerative base for models\n",
        "Base = declarative_base()"
      ]
    },
    {
      "cell_type": "code",
      "execution_count": 141,
      "metadata": {
        "id": "kq4jDFyjJKgS"
      },
      "outputs": [],
      "source": [
        "#creating models with declerative mapping\n",
        "class User(Base):\n",
        "    __tablename__ = 'users'\n",
        "    __table_args__ = {'extend_existing': True}\n",
        "\n",
        "\n",
        "    id = Column(Integer, primary_key=True)\n",
        "    username = Column(String, unique=True, nullable=False)\n",
        "    email = Column(String, unique=True, nullable=False)\n",
        "\n",
        "    comments = relationship('Comment', back_populates='user')\n",
        "\n",
        "    @property #py descriptors\n",
        "    def full_email(self):\n",
        "      return f\"{self.username} <{self.email}>\"\n",
        "    @property\n",
        "    def username_length(self):\n",
        "      return len(self.username)\n",
        "\n",
        "    def __repr__(self):\n",
        "      return f\"<User(id={self.id}, username = '{self.username}', email = '{self.email}')>\"\n",
        "\n",
        "@event.listens_for(User, \"load\") # event hooks\n",
        "def receive_load_user(target,context):\n",
        "  print(\"User loaded from Database:\",target)\n",
        "\n",
        "@event.listens_for(User, \"refresh\")\n",
        "def receive_refersh_user(target,context,attrs=None):\n",
        "  print(\"User refreshed:\", target)\n",
        "\n",
        "\n",
        "\n",
        "\n",
        "class Comment(Base):\n",
        "    __tablename__ = 'comments'\n",
        "    __table_args__ = {'extend_existing': True}\n",
        "\n",
        "\n",
        "    id = Column(Integer, primary_key=True)\n",
        "    text = Column(String, nullable=False)\n",
        "    user_id = Column(Integer, ForeignKey('users.id'))\n",
        "\n",
        "    user = relationship('User', back_populates='comments')\n",
        "\n"
      ]
    },
    {
      "cell_type": "code",
      "execution_count": 142,
      "metadata": {
        "id": "kPs4B7CTJKmS"
      },
      "outputs": [],
      "source": [
        "#create an engine for e.g: sqlite ... db connection\n",
        "engine = create_engine('sqlite:///example.db')"
      ]
    },
    {
      "cell_type": "code",
      "execution_count": 143,
      "metadata": {
        "id": "n5k4xEVJJXwo"
      },
      "outputs": [],
      "source": [
        "#Base.metadata.create_all(engine) creates all the tables defined in the Base\n",
        "#class in the database specified by the engine.\n",
        "# In this case, it will create the 'users' and 'comments' tables in the 'example.db' SQLite database.\n",
        "\n",
        "Base.metadata.create_all(engine)"
      ]
    },
    {
      "cell_type": "code",
      "execution_count": 144,
      "metadata": {
        "id": "ohTUUJMxJZqk"
      },
      "outputs": [],
      "source": [
        "#binding session\n",
        "Session = sessionmaker(bind=engine)\n",
        "session = Session()"
      ]
    },
    {
      "cell_type": "code",
      "execution_count": 145,
      "metadata": {
        "colab": {
          "base_uri": "https://localhost:8080/"
        },
        "id": "4Rh6XE9AJ0i-",
        "outputId": "ff0f62ff-e631-46b4-9fb0-4d3cd7781d2b"
      },
      "outputs": [
        {
          "name": "stdout",
          "output_type": "stream",
          "text": [
            "An error occurred: (sqlite3.IntegrityError) UNIQUE constraint failed: users.username\n",
            "[SQL: INSERT INTO users (username, email) VALUES (?, ?) RETURNING id]\n",
            "[parameters: ('user1', 'user1ctlyl@example.com')]\n",
            "(Background on this error at: https://sqlalche.me/e/20/gkpj)\n"
          ]
        }
      ],
      "source": [
        "#persisting the db\n",
        "try:\n",
        "    for i in range(1, 11):\n",
        "        email = f'user{i}' + ''.join(random.choices(string.ascii_lowercase, k=5)) + '@example.com'\n",
        "        user = User(username=f'user{i}', email=email)\n",
        "        session.add(user)\n",
        "\n",
        "    session.commit()\n",
        "\n",
        "    for user in session.query(User).all():\n",
        "        for i in range(1, 4):\n",
        "            comment = Comment(text=f'Comment {i} by {user.username}', user_id=user.id)\n",
        "            session.add(comment)\n",
        "\n",
        "    session.commit()\n",
        "\n",
        "except Exception as e:\n",
        "    session.rollback()\n",
        "    print(f\"An error occurred: {e}\")\n",
        "\n",
        "finally:\n",
        "    session.close()"
      ]
    },
    {
      "cell_type": "code",
      "execution_count": 146,
      "metadata": {
        "colab": {
          "base_uri": "https://localhost:8080/"
        },
        "id": "WjCWzDWbKklj",
        "outputId": "ab843a25-dd89-4397-d77d-4bddcaa7d53d"
      },
      "outputs": [
        {
          "name": "stdout",
          "output_type": "stream",
          "text": [
            "User loaded from Database: <User(id=1, username = 'user1', email = 'user1pweeh@example.com')>\n",
            "User loaded from Database: <User(id=2, username = 'user2', email = 'user2uzabp@example.com')>\n",
            "User loaded from Database: <User(id=3, username = 'user3', email = 'user3kqptl@example.com')>\n",
            "User loaded from Database: <User(id=4, username = 'user4', email = 'user4dimph@example.com')>\n",
            "User loaded from Database: <User(id=5, username = 'user5', email = 'user5htdrh@example.com')>\n",
            "User loaded from Database: <User(id=6, username = 'user6', email = 'user6unqmz@example.com')>\n",
            "User loaded from Database: <User(id=7, username = 'user7', email = 'user7darbi@example.com')>\n",
            "User loaded from Database: <User(id=8, username = 'user8', email = 'user8dusro@example.com')>\n",
            "User loaded from Database: <User(id=9, username = 'user9', email = 'user9oqctv@example.com')>\n",
            "User loaded from Database: <User(id=10, username = 'user10', email = 'user10adihe@example.com')>\n",
            "User loaded from Database: <User(id=11, username = 'newtest1_user', email = 'test_user1@example.com')>\n",
            "User ID: 1, Username: user1, Email: user1pweeh@example.com, Comments: 9\n",
            "User ID: 2, Username: user2, Email: user2uzabp@example.com, Comments: 3\n",
            "User ID: 3, Username: user3, Email: user3kqptl@example.com, Comments: 3\n",
            "User ID: 4, Username: user4, Email: user4dimph@example.com, Comments: 3\n",
            "User ID: 5, Username: user5, Email: user5htdrh@example.com, Comments: 3\n",
            "User ID: 6, Username: user6, Email: user6unqmz@example.com, Comments: 3\n",
            "User ID: 7, Username: user7, Email: user7darbi@example.com, Comments: 3\n",
            "User ID: 8, Username: user8, Email: user8dusro@example.com, Comments: 3\n",
            "User ID: 9, Username: user9, Email: user9oqctv@example.com, Comments: 3\n",
            "User ID: 10, Username: user10, Email: user10adihe@example.com, Comments: 3\n",
            "User ID: 11, Username: newtest1_user, Email: test_user1@example.com, Comments: 1\n"
          ]
        }
      ],
      "source": [
        "#simple select users\n",
        "users = session.query(User).all()\n",
        "for user in users:\n",
        "    print(f\"User ID: {user.id}, Username: {user.username}, Email: {user.email}, Comments: {len(user.comments)}\")"
      ]
    },
    {
      "cell_type": "code",
      "execution_count": 107,
      "metadata": {
        "colab": {
          "base_uri": "https://localhost:8080/"
        },
        "id": "fEk-G9YPMVpj",
        "outputId": "f49fce31-c1bd-4930-a7c4-3d8b85d480b1"
      },
      "outputs": [
        {
          "name": "stdout",
          "output_type": "stream",
          "text": [
            "Comment ID: 1, Text: Comment 1 by user1, User ID: 1\n",
            "Comment ID: 2, Text: Comment 2 by user1, User ID: 1\n",
            "Comment ID: 3, Text: Comment 3 by user1, User ID: 1\n",
            "Comment ID: 4, Text: Comment 1 by user2, User ID: 2\n",
            "Comment ID: 5, Text: Comment 2 by user2, User ID: 2\n",
            "Comment ID: 6, Text: Comment 3 by user2, User ID: 2\n",
            "Comment ID: 7, Text: Comment 1 by user3, User ID: 3\n",
            "Comment ID: 8, Text: Comment 2 by user3, User ID: 3\n",
            "Comment ID: 9, Text: Comment 3 by user3, User ID: 3\n",
            "Comment ID: 10, Text: Comment 1 by user4, User ID: 4\n",
            "Comment ID: 11, Text: Comment 2 by user4, User ID: 4\n",
            "Comment ID: 12, Text: Comment 3 by user4, User ID: 4\n",
            "Comment ID: 13, Text: Comment 1 by user5, User ID: 5\n",
            "Comment ID: 14, Text: Comment 2 by user5, User ID: 5\n",
            "Comment ID: 15, Text: Comment 3 by user5, User ID: 5\n",
            "Comment ID: 16, Text: Comment 1 by user6, User ID: 6\n",
            "Comment ID: 17, Text: Comment 2 by user6, User ID: 6\n",
            "Comment ID: 18, Text: Comment 3 by user6, User ID: 6\n",
            "Comment ID: 19, Text: Comment 1 by user7, User ID: 7\n",
            "Comment ID: 20, Text: Comment 2 by user7, User ID: 7\n",
            "Comment ID: 21, Text: Comment 3 by user7, User ID: 7\n",
            "Comment ID: 22, Text: Comment 1 by user8, User ID: 8\n",
            "Comment ID: 23, Text: Comment 2 by user8, User ID: 8\n",
            "Comment ID: 24, Text: Comment 3 by user8, User ID: 8\n",
            "Comment ID: 25, Text: Comment 1 by user9, User ID: 9\n",
            "Comment ID: 26, Text: Comment 2 by user9, User ID: 9\n",
            "Comment ID: 27, Text: Comment 3 by user9, User ID: 9\n",
            "Comment ID: 28, Text: Comment 1 by user10, User ID: 10\n",
            "Comment ID: 29, Text: Comment 2 by user10, User ID: 10\n",
            "Comment ID: 30, Text: Comment 3 by user10, User ID: 10\n",
            "Comment ID: 31, Text: This is a new comment testing., User ID: 11\n",
            "Comment ID: 32, Text: This is a new comment for make_change_doc., User ID: 1\n",
            "Comment ID: 33, Text: This is a new comment for make_change_doc., User ID: 1\n",
            "Comment ID: 34, Text: This is a new comment for make_change_doc., User ID: 1\n",
            "Comment ID: 35, Text: This is a new comment for make_change_doc., User ID: 1\n",
            "Comment ID: 36, Text: This is a new comment for make_change_doc., User ID: 1\n"
          ]
        }
      ],
      "source": [
        "#simple select comments\n",
        "comments = session.query(Comment).all()\n",
        "for comment in comments:\n",
        "    print(f\"Comment ID: {comment.id}, Text: {comment.text}, User ID: {comment.user_id}\")"
      ]
    },
    {
      "cell_type": "code",
      "execution_count": 108,
      "metadata": {
        "colab": {
          "base_uri": "https://localhost:8080/"
        },
        "id": "kDZ8pxI6M4KZ",
        "outputId": "8296b3ee-bd45-4e14-eb48-47c612be7945"
      },
      "outputs": [
        {
          "name": "stdout",
          "output_type": "stream",
          "text": [
            "Comment ID: 1, Text: Comment 1 by user1, User ID: 1, Username: user1, Email: user1pweeh@example.com\n",
            "Comment ID: 2, Text: Comment 2 by user1, User ID: 1, Username: user1, Email: user1pweeh@example.com\n",
            "Comment ID: 3, Text: Comment 3 by user1, User ID: 1, Username: user1, Email: user1pweeh@example.com\n",
            "Comment ID: 4, Text: Comment 1 by user2, User ID: 2, Username: user2, Email: user2uzabp@example.com\n",
            "Comment ID: 5, Text: Comment 2 by user2, User ID: 2, Username: user2, Email: user2uzabp@example.com\n",
            "Comment ID: 6, Text: Comment 3 by user2, User ID: 2, Username: user2, Email: user2uzabp@example.com\n",
            "Comment ID: 7, Text: Comment 1 by user3, User ID: 3, Username: user3, Email: user3kqptl@example.com\n",
            "Comment ID: 8, Text: Comment 2 by user3, User ID: 3, Username: user3, Email: user3kqptl@example.com\n",
            "Comment ID: 9, Text: Comment 3 by user3, User ID: 3, Username: user3, Email: user3kqptl@example.com\n",
            "Comment ID: 10, Text: Comment 1 by user4, User ID: 4, Username: user4, Email: user4dimph@example.com\n",
            "Comment ID: 11, Text: Comment 2 by user4, User ID: 4, Username: user4, Email: user4dimph@example.com\n",
            "Comment ID: 12, Text: Comment 3 by user4, User ID: 4, Username: user4, Email: user4dimph@example.com\n",
            "Comment ID: 13, Text: Comment 1 by user5, User ID: 5, Username: user5, Email: user5htdrh@example.com\n",
            "Comment ID: 14, Text: Comment 2 by user5, User ID: 5, Username: user5, Email: user5htdrh@example.com\n",
            "Comment ID: 15, Text: Comment 3 by user5, User ID: 5, Username: user5, Email: user5htdrh@example.com\n",
            "Comment ID: 16, Text: Comment 1 by user6, User ID: 6, Username: user6, Email: user6unqmz@example.com\n",
            "Comment ID: 17, Text: Comment 2 by user6, User ID: 6, Username: user6, Email: user6unqmz@example.com\n",
            "Comment ID: 18, Text: Comment 3 by user6, User ID: 6, Username: user6, Email: user6unqmz@example.com\n",
            "Comment ID: 19, Text: Comment 1 by user7, User ID: 7, Username: user7, Email: user7darbi@example.com\n",
            "Comment ID: 20, Text: Comment 2 by user7, User ID: 7, Username: user7, Email: user7darbi@example.com\n",
            "Comment ID: 21, Text: Comment 3 by user7, User ID: 7, Username: user7, Email: user7darbi@example.com\n",
            "Comment ID: 22, Text: Comment 1 by user8, User ID: 8, Username: user8, Email: user8dusro@example.com\n",
            "Comment ID: 23, Text: Comment 2 by user8, User ID: 8, Username: user8, Email: user8dusro@example.com\n",
            "Comment ID: 24, Text: Comment 3 by user8, User ID: 8, Username: user8, Email: user8dusro@example.com\n",
            "Comment ID: 25, Text: Comment 1 by user9, User ID: 9, Username: user9, Email: user9oqctv@example.com\n",
            "Comment ID: 26, Text: Comment 2 by user9, User ID: 9, Username: user9, Email: user9oqctv@example.com\n",
            "Comment ID: 27, Text: Comment 3 by user9, User ID: 9, Username: user9, Email: user9oqctv@example.com\n",
            "Comment ID: 28, Text: Comment 1 by user10, User ID: 10, Username: user10, Email: user10adihe@example.com\n",
            "Comment ID: 29, Text: Comment 2 by user10, User ID: 10, Username: user10, Email: user10adihe@example.com\n",
            "Comment ID: 30, Text: Comment 3 by user10, User ID: 10, Username: user10, Email: user10adihe@example.com\n",
            "Comment ID: 31, Text: This is a new comment testing., User ID: 11, Username: newtest1_user, Email: test_user1@example.com\n",
            "Comment ID: 32, Text: This is a new comment for make_change_doc., User ID: 1, Username: user1, Email: user1pweeh@example.com\n",
            "Comment ID: 33, Text: This is a new comment for make_change_doc., User ID: 1, Username: user1, Email: user1pweeh@example.com\n",
            "Comment ID: 34, Text: This is a new comment for make_change_doc., User ID: 1, Username: user1, Email: user1pweeh@example.com\n",
            "Comment ID: 35, Text: This is a new comment for make_change_doc., User ID: 1, Username: user1, Email: user1pweeh@example.com\n",
            "Comment ID: 36, Text: This is a new comment for make_change_doc., User ID: 1, Username: user1, Email: user1pweeh@example.com\n"
          ]
        }
      ],
      "source": [
        "#select with join\n",
        "comments_with_users = session.query(Comment, User).join(User).all()\n",
        "for comment, user in comments_with_users:\n",
        "    print(f\"Comment ID: {comment.id}, Text: {comment.text}, User ID: {user.id}, Username: {user.username}, Email: {user.email}\")\n"
      ]
    },
    {
      "cell_type": "code",
      "execution_count": 109,
      "metadata": {
        "colab": {
          "base_uri": "https://localhost:8080/"
        },
        "id": "lOLT2aKWNiSQ",
        "outputId": "5fdfacf6-b42e-4ea6-f25c-09e56cfed137"
      },
      "outputs": [
        {
          "name": "stdout",
          "output_type": "stream",
          "text": [
            "An error occurred: (sqlite3.IntegrityError) UNIQUE constraint failed: users.email\n",
            "[SQL: INSERT INTO users (username, email) VALUES (?, ?)]\n",
            "[parameters: ('test_user', 'test_user1@example.com')]\n",
            "(Background on this error at: https://sqlalche.me/e/20/gkpj)\n"
          ]
        }
      ],
      "source": [
        "#add new user\n",
        "try:\n",
        "    new_user = User(username='test_user', email='test_user1@example.com')\n",
        "    session.add(new_user)\n",
        "    session.commit()\n",
        "\n",
        "    new_comment = Comment(text='This is a new comment testing.', user_id=new_user.id)\n",
        "    session.add(new_comment)\n",
        "    session.commit()\n",
        "\n",
        "    user_with_comment = session.query(User, Comment).join(Comment).filter(User.id == new_user.id).first()\n",
        "    user, comment = user_with_comment\n",
        "    print(f\"User ID: {user.id}, Username: {user.username}, Email: {user.email}\")\n",
        "    print(f\"Comment ID: {comment.id}, Text: {comment.text}\")\n",
        "\n",
        "except Exception as e:\n",
        "    session.rollback()\n",
        "    print(f\"An error occurred: {e}\")\n",
        "\n",
        "finally:\n",
        "    session.close()"
      ]
    },
    {
      "cell_type": "code",
      "execution_count": 110,
      "metadata": {
        "colab": {
          "base_uri": "https://localhost:8080/"
        },
        "id": "6TSpdQC_OMKu",
        "outputId": "f725406d-4b94-490c-b295-d30c07583833"
      },
      "outputs": [
        {
          "name": "stdout",
          "output_type": "stream",
          "text": [
            "User not found!\n"
          ]
        }
      ],
      "source": [
        "#update user\n",
        "try:\n",
        "    user_to_update = session.query(User).filter(User.username == 'test_user').first()\n",
        "\n",
        "    if user_to_update:\n",
        "        user_to_update.username = 'newtest1_user'\n",
        "        session.commit()\n",
        "        print(\"Username updated successfully!\")\n",
        "    else:\n",
        "        print(\"User not found!\")\n",
        "\n",
        "except Exception as e:\n",
        "    session.rollback()\n",
        "    print(f\"An error occurred: {e}\")\n",
        "\n",
        "finally:\n",
        "    session.close()"
      ]
    },
    {
      "cell_type": "code",
      "execution_count": 111,
      "metadata": {
        "colab": {
          "base_uri": "https://localhost:8080/"
        },
        "id": "a6FKW8JaP3C-",
        "outputId": "498e263d-928d-4bf7-a225-f171f2b389f0"
      },
      "outputs": [
        {
          "name": "stdout",
          "output_type": "stream",
          "text": [
            "Changes committed successfully for user1\n"
          ]
        }
      ],
      "source": [
        "name = 'user1'\n",
        "try:\n",
        "    stmt_user = select(User).where(User.username == name)\n",
        "    example_user = session.execute(stmt_user).scalar()\n",
        "\n",
        "    if example_user:\n",
        "        new_comment = Comment(text=\"This is a new comment for make_change_doc.\", user_id=example_user.id)\n",
        "        session.add(new_comment)\n",
        "        session.commit()\n",
        "        print(\"Changes committed successfully for \"+name)\n",
        "    else:\n",
        "        print(\"User  name not found.\"+name)\n",
        "\n",
        "except Exception as e:\n",
        "    session.rollback()\n",
        "    print(f\"An error occurred: {e}\")\n",
        "\n",
        "finally:\n",
        "    session.close()\n"
      ]
    },
    {
      "cell_type": "code",
      "execution_count": 112,
      "metadata": {
        "colab": {
          "base_uri": "https://localhost:8080/"
        },
        "id": "bUt2CHB5MHno",
        "outputId": "3975d849-8088-4e02-e33b-bb9994023841"
      },
      "outputs": [
        {
          "data": {
            "text/plain": [
              "<Mapper at 0x7ce502264c10; Comments_imp>"
            ]
          },
          "execution_count": 112,
          "metadata": {},
          "output_type": "execute_result"
        }
      ],
      "source": [
        "#imperative mapping for comments and user tables:\n",
        "\n",
        "\n",
        "mapper_registry = registry()\n",
        "\n",
        "user_table = Table(\n",
        "    \"user_imp\",\n",
        "    mapper_registry.metadata,\n",
        "    Column(\"id\",Integer,primary_key = True),\n",
        "    Column(\"username\", String(50),unique = True, nullable = False),\n",
        "    Column(\"email\", String(50), nullable = False),\n",
        "    )\n",
        "\n",
        "comments_table = Table(\n",
        "    \"comments_imp\",\n",
        "    mapper_registry.metadata,\n",
        "    Column(\"id\",Integer,primary_key = True),\n",
        "    Column(\"text\", String(100), nullable = False),\n",
        "    Column(\"user_id\",Integer, ForeignKey(\"user_imp.id\")), #fr key defination\n",
        "    )\n",
        "\n",
        "class User_imp:\n",
        "  pass\n",
        "\n",
        "class Comments_imp:\n",
        "  pass\n",
        "\n",
        "mapper_registry.map_imperatively(User_imp, user_table)\n",
        "\n",
        "\n",
        "mapper_registry.map_imperatively(Comments_imp, comments_table, properties = {\n",
        "    \"user\": relationship(User_imp)\n",
        "\n",
        "})\n",
        "\n"
      ]
    },
    {
      "cell_type": "code",
      "execution_count": 129,
      "metadata": {
        "id": "gZzEMo-gXvlr"
      },
      "outputs": [],
      "source": [
        "# Delete all entries from the tables so we can repopulate in next cell\n",
        "session.query(User_imp).delete()\n",
        "session.query(Comments_imp).delete()\n",
        "\n",
        "# Commit deletion\n",
        "session.commit()\n",
        "\n",
        "# Drop tables for recreation of tables in next cell\n",
        "mapper_registry.metadata.drop_all(engine)\n"
      ]
    },
    {
      "cell_type": "code",
      "execution_count": 130,
      "metadata": {
        "colab": {
          "base_uri": "https://localhost:8080/"
        },
        "id": "l6YrMg6wO-2w",
        "outputId": "e0fbf4c2-ee46-4b5a-8239-873459d2eb61"
      },
      "outputs": [
        {
          "name": "stderr",
          "output_type": "stream",
          "text": [
            "<ipython-input-130-dfbeeabfbc9f>:27: SAWarning: Identity map already had an identity for (<class '__main__.Comments_imp'>, (1,), None), replacing it with newly flushed object.   Are there load operations occurring inside of an event handler within the flush?\n",
            "  session.commit()#commit insertion\n",
            "<ipython-input-130-dfbeeabfbc9f>:27: SAWarning: Identity map already had an identity for (<class '__main__.Comments_imp'>, (2,), None), replacing it with newly flushed object.   Are there load operations occurring inside of an event handler within the flush?\n",
            "  session.commit()#commit insertion\n"
          ]
        }
      ],
      "source": [
        "#test population of the db in existing egine and session\n",
        "\n",
        "mapper_registry.metadata.create_all(engine) # Create the tables\n",
        "\n",
        "\n",
        "user1 = User_imp()\n",
        "user1.username = 'user3'\n",
        "user1.email = 'user3@example.com'\n",
        "\n",
        "user2 = User_imp()\n",
        "user2.username = 'user4'\n",
        "user2.email = 'user4@example.com'\n",
        "\n",
        "comment1 = Comments_imp()\n",
        "comment1.text = 'Comment 3'\n",
        "comment1.user = user1\n",
        "\n",
        "comment2 = Comments_imp()\n",
        "comment2.text = 'Comment 4'\n",
        "comment2.user = user2\n",
        "\n",
        "session.add(user1)\n",
        "session.add(user2)\n",
        "session.add(comment1)\n",
        "session.add(comment2)\n",
        "\n",
        "session.commit()#commit insertion"
      ]
    },
    {
      "cell_type": "code",
      "execution_count": 131,
      "metadata": {
        "colab": {
          "base_uri": "https://localhost:8080/"
        },
        "id": "L0ShXMwTVWAq",
        "outputId": "c1cef282-1cbd-43a5-f26b-0c1c6badd3d4"
      },
      "outputs": [
        {
          "name": "stdout",
          "output_type": "stream",
          "text": [
            "User found:\n",
            "Username: user4\n",
            "Email: user4@example.com\n"
          ]
        }
      ],
      "source": [
        "u1 = session.scalars(select(User_imp).where(User_imp.username == \"user4\")).first()\n",
        "#select(User_imp).where(User_imp.username == \"user4\")\n",
        "\n",
        "\n",
        "if u1:\n",
        "    print(\"User found:\")\n",
        "    print(f\"Username: {u1.username}\")\n",
        "    print(f\"Email: {u1.email}\")\n",
        "else:\n",
        "    print(\"User not found\")"
      ]
    },
    {
      "cell_type": "code",
      "execution_count": 135,
      "metadata": {
        "colab": {
          "base_uri": "https://localhost:8080/"
        },
        "id": "hrvEfbNGYnB1",
        "outputId": "f38ff6f8-77a5-4fea-d1c3-c9097e28ef42"
      },
      "outputs": [
        {
          "name": "stdout",
          "output_type": "stream",
          "text": [
            "user3\n",
            "user4\n"
          ]
        }
      ],
      "source": [
        "all_user_imp= session.query(User_imp).all()\n",
        "\n",
        "\n",
        "for user in all_user_imp:\n",
        "    print(user.username)"
      ]
    },
    {
      "cell_type": "code",
      "execution_count": 136,
      "metadata": {
        "colab": {
          "base_uri": "https://localhost:8080/"
        },
        "id": "T0iqr0gPWo6C",
        "outputId": "1202ff4d-703d-4044-e317-5288d703275b"
      },
      "outputs": [
        {
          "name": "stdout",
          "output_type": "stream",
          "text": [
            "User found:\n",
            "Username: user4\n",
            "Email: user4@example.com\n",
            "User deleted successfully\n"
          ]
        }
      ],
      "source": [
        "u1_del = session.scalars(select(User_imp).where(User_imp.username == \"user4\")).first()\n",
        "\n",
        "if u1_del:\n",
        "    print(\"User found:\")\n",
        "    print(f\"Username: {u1_del.username}\")\n",
        "    print(f\"Email: {u1_del.email}\")\n",
        "\n",
        "    session.delete(u1_del)\n",
        "    session.commit()\n",
        "    print(\"User deleted successfully\")\n",
        "else:\n",
        "    print(\"User not found\")"
      ]
    },
    {
      "cell_type": "code",
      "execution_count": null,
      "metadata": {
        "id": "LWbaNCq0YVPv"
      },
      "outputs": [],
      "source": [
        "#Runtime Introspection of Mapped classes, Instances and Mappers(Working)"
      ]
    }
  ],
  "metadata": {
    "colab": {
      "provenance": []
    },
    "kernelspec": {
      "display_name": "Python 3",
      "name": "python3"
    },
    "language_info": {
      "name": "python"
    }
  },
  "nbformat": 4,
  "nbformat_minor": 0
}
