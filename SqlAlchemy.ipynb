{
  "nbformat": 4,
  "nbformat_minor": 0,
  "metadata": {
    "colab": {
      "provenance": []
    },
    "kernelspec": {
      "name": "python3",
      "display_name": "Python 3"
    },
    "language_info": {
      "name": "python"
    }
  },
  "cells": [
    {
      "cell_type": "code",
      "execution_count": 41,
      "metadata": {
        "id": "fBLz5OLsIw06"
      },
      "outputs": [],
      "source": [
        "from sqlalchemy import create_engine, Column, Integer, String, ForeignKey\n",
        "from sqlalchemy.ext.declarative import declarative_base\n",
        "from sqlalchemy.orm import relationship\n",
        "from sqlalchemy.orm import sessionmaker\n",
        "from sqlalchemy import join\n",
        "from sqlalchemy import select\n",
        "import random\n",
        "import string"
      ]
    },
    {
      "cell_type": "code",
      "source": [
        "#calling sqlalchemy declerative base for models\n",
        "Base = declarative_base()"
      ],
      "metadata": {
        "colab": {
          "base_uri": "https://localhost:8080/"
        },
        "id": "yOcI2KtMJKc6",
        "outputId": "af0287ce-b537-4d18-f143-628083096ed2"
      },
      "execution_count": 14,
      "outputs": [
        {
          "output_type": "stream",
          "name": "stderr",
          "text": [
            "<ipython-input-14-14385c17bab9>:2: MovedIn20Warning: The ``declarative_base()`` function is now available as sqlalchemy.orm.declarative_base(). (deprecated since: 2.0) (Background on SQLAlchemy 2.0 at: https://sqlalche.me/e/b8d9)\n",
            "  Base = declarative_base()\n"
          ]
        }
      ]
    },
    {
      "cell_type": "code",
      "source": [
        "#creating models\n",
        "class User(Base):\n",
        "    __tablename__ = 'users'\n",
        "    __table_args__ = {'extend_existing': True}\n",
        "\n",
        "\n",
        "    id = Column(Integer, primary_key=True)\n",
        "    username = Column(String, unique=True, nullable=False)\n",
        "    email = Column(String, unique=True, nullable=False)\n",
        "\n",
        "    comments = relationship('Comment', back_populates='user')\n",
        "\n",
        "class Comment(Base):\n",
        "    __tablename__ = 'comments'\n",
        "    __table_args__ = {'extend_existing': True}\n",
        "\n",
        "\n",
        "    id = Column(Integer, primary_key=True)\n",
        "    text = Column(String, nullable=False)\n",
        "    user_id = Column(Integer, ForeignKey('users.id'))\n",
        "\n",
        "    user = relationship('User', back_populates='comments')"
      ],
      "metadata": {
        "id": "kq4jDFyjJKgS"
      },
      "execution_count": 15,
      "outputs": []
    },
    {
      "cell_type": "code",
      "source": [
        "#create an engine for e.g: sqlite ... db connection\n",
        "engine = create_engine('sqlite:///example.db')"
      ],
      "metadata": {
        "id": "kPs4B7CTJKmS"
      },
      "execution_count": 16,
      "outputs": []
    },
    {
      "cell_type": "code",
      "source": [
        "#Base.metadata.create_all(engine) creates all the tables defined in the Base\n",
        "#class in the database specified by the engine.\n",
        "# In this case, it will create the 'users' and 'comments' tables in the 'example.db' SQLite database.\n",
        "\n",
        "Base.metadata.create_all(engine)"
      ],
      "metadata": {
        "id": "n5k4xEVJJXwo"
      },
      "execution_count": 22,
      "outputs": []
    },
    {
      "cell_type": "code",
      "source": [
        "#binding session\n",
        "Session = sessionmaker(bind=engine)\n",
        "session = Session()"
      ],
      "metadata": {
        "id": "ohTUUJMxJZqk"
      },
      "execution_count": 23,
      "outputs": []
    },
    {
      "cell_type": "code",
      "source": [
        "#persisting the db\n",
        "try:\n",
        "    for i in range(1, 11):\n",
        "        email = f'user{i}' + ''.join(random.choices(string.ascii_lowercase, k=5)) + '@example.com'\n",
        "        user = User(username=f'user{i}', email=email)\n",
        "        session.add(user)\n",
        "\n",
        "    session.commit()\n",
        "\n",
        "    for user in session.query(User).all():\n",
        "        for i in range(1, 4):\n",
        "            comment = Comment(text=f'Comment {i} by {user.username}', user_id=user.id)\n",
        "            session.add(comment)\n",
        "\n",
        "    session.commit()\n",
        "\n",
        "except Exception as e:\n",
        "    session.rollback()\n",
        "    print(f\"An error occurred: {e}\")\n",
        "\n",
        "finally:\n",
        "    session.close()"
      ],
      "metadata": {
        "colab": {
          "base_uri": "https://localhost:8080/"
        },
        "id": "4Rh6XE9AJ0i-",
        "outputId": "f68efc35-9036-4eff-a275-af4bd05fcb63"
      },
      "execution_count": 24,
      "outputs": [
        {
          "output_type": "stream",
          "name": "stdout",
          "text": [
            "An error occurred: (sqlite3.IntegrityError) UNIQUE constraint failed: users.username\n",
            "[SQL: INSERT INTO users (username, email) VALUES (?, ?) RETURNING id]\n",
            "[parameters: ('user1', 'user1snicp@example.com')]\n",
            "(Background on this error at: https://sqlalche.me/e/20/gkpj)\n"
          ]
        }
      ]
    },
    {
      "cell_type": "code",
      "source": [
        "#simple select users\n",
        "users = session.query(User).all()\n",
        "for user in users:\n",
        "    print(f\"User ID: {user.id}, Username: {user.username}, Email: {user.email}, Comments: {len(user.comments)}\")"
      ],
      "metadata": {
        "colab": {
          "base_uri": "https://localhost:8080/"
        },
        "id": "WjCWzDWbKklj",
        "outputId": "c96b5192-b6b6-4f55-ccb2-e937c6e60ffb"
      },
      "execution_count": 55,
      "outputs": [
        {
          "output_type": "stream",
          "name": "stdout",
          "text": [
            "User ID: 1, Username: user1, Email: user1@example.com, Comments: 8\n",
            "User ID: 2, Username: user2, Email: user2@example.com, Comments: 3\n",
            "User ID: 3, Username: user3, Email: user3@example.com, Comments: 3\n",
            "User ID: 4, Username: user4, Email: user4@example.com, Comments: 3\n",
            "User ID: 5, Username: user5, Email: user5@example.com, Comments: 3\n",
            "User ID: 6, Username: user6, Email: user6@example.com, Comments: 3\n",
            "User ID: 7, Username: user7, Email: user7@example.com, Comments: 3\n",
            "User ID: 8, Username: user8, Email: user8@example.com, Comments: 3\n",
            "User ID: 9, Username: user9, Email: user9@example.com, Comments: 3\n",
            "User ID: 10, Username: user10, Email: user10@example.com, Comments: 3\n",
            "User ID: 11, Username: newtest_user, Email: test_user@example.com, Comments: 1\n",
            "User ID: 12, Username: newtest1_user, Email: test_user1@example.com, Comments: 1\n"
          ]
        }
      ]
    },
    {
      "cell_type": "code",
      "source": [
        "#simple select comments\n",
        "comments = session.query(Comment).all()\n",
        "for comment in comments:\n",
        "    print(f\"Comment ID: {comment.id}, Text: {comment.text}, User ID: {comment.user_id}\")"
      ],
      "metadata": {
        "colab": {
          "base_uri": "https://localhost:8080/"
        },
        "id": "fEk-G9YPMVpj",
        "outputId": "e44c1ee8-1a39-4606-d83f-5d168305546e"
      },
      "execution_count": 53,
      "outputs": [
        {
          "output_type": "stream",
          "name": "stdout",
          "text": [
            "Comment ID: 1, Text: Comment 1 by user1, User ID: 1\n",
            "Comment ID: 2, Text: Comment 2 by user1, User ID: 1\n",
            "Comment ID: 3, Text: Comment 3 by user1, User ID: 1\n",
            "Comment ID: 4, Text: Comment 1 by user2, User ID: 2\n",
            "Comment ID: 5, Text: Comment 2 by user2, User ID: 2\n",
            "Comment ID: 6, Text: Comment 3 by user2, User ID: 2\n",
            "Comment ID: 7, Text: Comment 1 by user3, User ID: 3\n",
            "Comment ID: 8, Text: Comment 2 by user3, User ID: 3\n",
            "Comment ID: 9, Text: Comment 3 by user3, User ID: 3\n",
            "Comment ID: 10, Text: Comment 1 by user4, User ID: 4\n",
            "Comment ID: 11, Text: Comment 2 by user4, User ID: 4\n",
            "Comment ID: 12, Text: Comment 3 by user4, User ID: 4\n",
            "Comment ID: 13, Text: Comment 1 by user5, User ID: 5\n",
            "Comment ID: 14, Text: Comment 2 by user5, User ID: 5\n",
            "Comment ID: 15, Text: Comment 3 by user5, User ID: 5\n",
            "Comment ID: 16, Text: Comment 1 by user6, User ID: 6\n",
            "Comment ID: 17, Text: Comment 2 by user6, User ID: 6\n",
            "Comment ID: 18, Text: Comment 3 by user6, User ID: 6\n",
            "Comment ID: 19, Text: Comment 1 by user7, User ID: 7\n",
            "Comment ID: 20, Text: Comment 2 by user7, User ID: 7\n",
            "Comment ID: 21, Text: Comment 3 by user7, User ID: 7\n",
            "Comment ID: 22, Text: Comment 1 by user8, User ID: 8\n",
            "Comment ID: 23, Text: Comment 2 by user8, User ID: 8\n",
            "Comment ID: 24, Text: Comment 3 by user8, User ID: 8\n",
            "Comment ID: 25, Text: Comment 1 by user9, User ID: 9\n",
            "Comment ID: 26, Text: Comment 2 by user9, User ID: 9\n",
            "Comment ID: 27, Text: Comment 3 by user9, User ID: 9\n",
            "Comment ID: 28, Text: Comment 1 by user10, User ID: 10\n",
            "Comment ID: 29, Text: Comment 2 by user10, User ID: 10\n",
            "Comment ID: 30, Text: Comment 3 by user10, User ID: 10\n",
            "Comment ID: 31, Text: This is a new comment testing., User ID: 11\n",
            "Comment ID: 32, Text: This is a new comment testing., User ID: 12\n",
            "Comment ID: 33, Text: This is a new comment for make_change_doc., User ID: 1\n",
            "Comment ID: 34, Text: This is a new comment for make_change_doc., User ID: 1\n",
            "Comment ID: 35, Text: This is a new comment for make_change_doc., User ID: 1\n",
            "Comment ID: 36, Text: This is a new comment for make_change_doc., User ID: 1\n",
            "Comment ID: 37, Text: This is a new comment for make_change_doc., User ID: 1\n"
          ]
        }
      ]
    },
    {
      "cell_type": "code",
      "source": [
        "#select with join\n",
        "comments_with_users = session.query(Comment, User).join(User).all()\n",
        "for comment, user in comments_with_users:\n",
        "    print(f\"Comment ID: {comment.id}, Text: {comment.text}, User ID: {user.id}, Username: {user.username}, Email: {user.email}\")\n"
      ],
      "metadata": {
        "colab": {
          "base_uri": "https://localhost:8080/"
        },
        "id": "kDZ8pxI6M4KZ",
        "outputId": "b32eb010-4173-4171-fd70-166b37fa0510"
      },
      "execution_count": 52,
      "outputs": [
        {
          "output_type": "stream",
          "name": "stdout",
          "text": [
            "Comment ID: 1, Text: Comment 1 by user1, User ID: 1, Username: user1, Email: user1@example.com\n",
            "Comment ID: 2, Text: Comment 2 by user1, User ID: 1, Username: user1, Email: user1@example.com\n",
            "Comment ID: 3, Text: Comment 3 by user1, User ID: 1, Username: user1, Email: user1@example.com\n",
            "Comment ID: 4, Text: Comment 1 by user2, User ID: 2, Username: user2, Email: user2@example.com\n",
            "Comment ID: 5, Text: Comment 2 by user2, User ID: 2, Username: user2, Email: user2@example.com\n",
            "Comment ID: 6, Text: Comment 3 by user2, User ID: 2, Username: user2, Email: user2@example.com\n",
            "Comment ID: 7, Text: Comment 1 by user3, User ID: 3, Username: user3, Email: user3@example.com\n",
            "Comment ID: 8, Text: Comment 2 by user3, User ID: 3, Username: user3, Email: user3@example.com\n",
            "Comment ID: 9, Text: Comment 3 by user3, User ID: 3, Username: user3, Email: user3@example.com\n",
            "Comment ID: 10, Text: Comment 1 by user4, User ID: 4, Username: user4, Email: user4@example.com\n",
            "Comment ID: 11, Text: Comment 2 by user4, User ID: 4, Username: user4, Email: user4@example.com\n",
            "Comment ID: 12, Text: Comment 3 by user4, User ID: 4, Username: user4, Email: user4@example.com\n",
            "Comment ID: 13, Text: Comment 1 by user5, User ID: 5, Username: user5, Email: user5@example.com\n",
            "Comment ID: 14, Text: Comment 2 by user5, User ID: 5, Username: user5, Email: user5@example.com\n",
            "Comment ID: 15, Text: Comment 3 by user5, User ID: 5, Username: user5, Email: user5@example.com\n",
            "Comment ID: 16, Text: Comment 1 by user6, User ID: 6, Username: user6, Email: user6@example.com\n",
            "Comment ID: 17, Text: Comment 2 by user6, User ID: 6, Username: user6, Email: user6@example.com\n",
            "Comment ID: 18, Text: Comment 3 by user6, User ID: 6, Username: user6, Email: user6@example.com\n",
            "Comment ID: 19, Text: Comment 1 by user7, User ID: 7, Username: user7, Email: user7@example.com\n",
            "Comment ID: 20, Text: Comment 2 by user7, User ID: 7, Username: user7, Email: user7@example.com\n",
            "Comment ID: 21, Text: Comment 3 by user7, User ID: 7, Username: user7, Email: user7@example.com\n",
            "Comment ID: 22, Text: Comment 1 by user8, User ID: 8, Username: user8, Email: user8@example.com\n",
            "Comment ID: 23, Text: Comment 2 by user8, User ID: 8, Username: user8, Email: user8@example.com\n",
            "Comment ID: 24, Text: Comment 3 by user8, User ID: 8, Username: user8, Email: user8@example.com\n",
            "Comment ID: 25, Text: Comment 1 by user9, User ID: 9, Username: user9, Email: user9@example.com\n",
            "Comment ID: 26, Text: Comment 2 by user9, User ID: 9, Username: user9, Email: user9@example.com\n",
            "Comment ID: 27, Text: Comment 3 by user9, User ID: 9, Username: user9, Email: user9@example.com\n",
            "Comment ID: 28, Text: Comment 1 by user10, User ID: 10, Username: user10, Email: user10@example.com\n",
            "Comment ID: 29, Text: Comment 2 by user10, User ID: 10, Username: user10, Email: user10@example.com\n",
            "Comment ID: 30, Text: Comment 3 by user10, User ID: 10, Username: user10, Email: user10@example.com\n",
            "Comment ID: 31, Text: This is a new comment testing., User ID: 11, Username: newtest_user, Email: test_user@example.com\n",
            "Comment ID: 32, Text: This is a new comment testing., User ID: 12, Username: newtest1_user, Email: test_user1@example.com\n",
            "Comment ID: 33, Text: This is a new comment for make_change_doc., User ID: 1, Username: user1, Email: user1@example.com\n",
            "Comment ID: 34, Text: This is a new comment for make_change_doc., User ID: 1, Username: user1, Email: user1@example.com\n",
            "Comment ID: 35, Text: This is a new comment for make_change_doc., User ID: 1, Username: user1, Email: user1@example.com\n",
            "Comment ID: 36, Text: This is a new comment for make_change_doc., User ID: 1, Username: user1, Email: user1@example.com\n",
            "Comment ID: 37, Text: This is a new comment for make_change_doc., User ID: 1, Username: user1, Email: user1@example.com\n"
          ]
        }
      ]
    },
    {
      "cell_type": "code",
      "source": [
        "#add new user\n",
        "try:\n",
        "    new_user = User(username='test_user', email='test_user1@example.com')\n",
        "    session.add(new_user)\n",
        "    session.commit()\n",
        "\n",
        "    new_comment = Comment(text='This is a new comment testing.', user_id=new_user.id)\n",
        "    session.add(new_comment)\n",
        "    session.commit()\n",
        "\n",
        "    user_with_comment = session.query(User, Comment).join(Comment).filter(User.id == new_user.id).first()\n",
        "    user, comment = user_with_comment\n",
        "    print(f\"User ID: {user.id}, Username: {user.username}, Email: {user.email}\")\n",
        "    print(f\"Comment ID: {comment.id}, Text: {comment.text}\")\n",
        "\n",
        "except Exception as e:\n",
        "    session.rollback()\n",
        "    print(f\"An error occurred: {e}\")\n",
        "\n",
        "finally:\n",
        "    session.close()"
      ],
      "metadata": {
        "colab": {
          "base_uri": "https://localhost:8080/"
        },
        "id": "lOLT2aKWNiSQ",
        "outputId": "c41065bf-494f-466c-f5c8-32000759e793"
      },
      "execution_count": 37,
      "outputs": [
        {
          "output_type": "stream",
          "name": "stdout",
          "text": [
            "User ID: 12, Username: test_user, Email: test_user1@example.com\n",
            "Comment ID: 32, Text: This is a new comment testing.\n"
          ]
        }
      ]
    },
    {
      "cell_type": "code",
      "source": [
        "#update user\n",
        "try:\n",
        "    user_to_update = session.query(User).filter(User.username == 'test_user').first()\n",
        "\n",
        "    if user_to_update:\n",
        "        user_to_update.username = 'newtest1_user'\n",
        "        session.commit()\n",
        "        print(\"Username updated successfully!\")\n",
        "    else:\n",
        "        print(\"User not found!\")\n",
        "\n",
        "except Exception as e:\n",
        "    session.rollback()\n",
        "    print(f\"An error occurred: {e}\")\n",
        "\n",
        "finally:\n",
        "    session.close()"
      ],
      "metadata": {
        "colab": {
          "base_uri": "https://localhost:8080/"
        },
        "id": "6TSpdQC_OMKu",
        "outputId": "c57c7fcb-3767-422a-a491-b07137ac048f"
      },
      "execution_count": 40,
      "outputs": [
        {
          "output_type": "stream",
          "name": "stdout",
          "text": [
            "Username updated successfully!\n"
          ]
        }
      ]
    },
    {
      "cell_type": "code",
      "source": [
        "name = 'user1'\n",
        "try:\n",
        "    stmt_user = select(User).where(User.username == name)\n",
        "    example_user = session.execute(stmt_user).scalar()\n",
        "\n",
        "    if example_user:\n",
        "        new_comment = Comment(text=\"This is a new comment for make_change_doc.\", user_id=example_user.id)\n",
        "        session.add(new_comment)\n",
        "        session.commit()\n",
        "        print(\"Changes committed successfully for \"+name)\n",
        "    else:\n",
        "        print(\"User  name not found.\"+name)\n",
        "\n",
        "except Exception as e:\n",
        "    session.rollback()\n",
        "    print(f\"An error occurred: {e}\")\n",
        "\n",
        "finally:\n",
        "    session.close()\n"
      ],
      "metadata": {
        "colab": {
          "base_uri": "https://localhost:8080/"
        },
        "id": "a6FKW8JaP3C-",
        "outputId": "17a7247b-d859-4e81-a48d-0c27d34edff6"
      },
      "execution_count": 51,
      "outputs": [
        {
          "output_type": "stream",
          "name": "stdout",
          "text": [
            "Changes committed successfully for user1\n"
          ]
        }
      ]
    }
  ]
}